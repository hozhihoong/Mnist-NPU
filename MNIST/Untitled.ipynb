{
 "cells": [
  {
   "cell_type": "markdown",
   "id": "bb1dc878-985f-4b6c-9d24-07c776905596",
   "metadata": {},
   "source": [
    "## Copy files from OBS"
   ]
  },
  {
   "cell_type": "code",
   "execution_count": 3,
   "id": "fac567d8-f2ad-4efc-9746-45b91242dc64",
   "metadata": {},
   "outputs": [
    {
     "name": "stderr",
     "output_type": "stream",
     "text": [
      "INFO:root:Multiprocessing connection patch for bpo-17560 not applied, not an applicable Python version: 3.9.10 | packaged by conda-forge | (main, Feb  1 2022, 21:53:27) \n",
      "[GCC 9.4.0]\n",
      "INFO:root:Listing OBS: 1000\n",
      "INFO:root:Listing OBS: 2000\n",
      "INFO:root:Listing OBS: 3000\n",
      "INFO:root:Listing OBS: 4000\n",
      "INFO:root:List OBS time cost: 3.33 seconds.\n",
      "INFO:root:1000/3531\n",
      "INFO:root:2000/3531\n",
      "INFO:root:3000/3531\n",
      "INFO:root:Copy parallel total time cost: 10.99 seconds.\n"
     ]
    }
   ],
   "source": [
    "import moxing as mox\n",
    "\n",
    "obs_dir = \"obs://obs-cne2-zh/modelarts-poc-zh/MNIST\"\n",
    "local_dir = \"/home/ma-user/work/MNIST\"\n",
    "\n",
    "mox.file.copy_parallel(obs_dir, local_dir)"
   ]
  },
  {
   "cell_type": "markdown",
   "id": "4768d4ed-dd50-41fc-b146-6a7e0fe37e0a",
   "metadata": {},
   "source": [
    "## To test the training code:"
   ]
  },
  {
   "cell_type": "markdown",
   "id": "cd6b1218-1d27-4485-b6d4-9803cc815a2e",
   "metadata": {},
   "source": [
    "### run command below in terminal:"
   ]
  },
  {
   "cell_type": "raw",
   "id": "cb1f3743-f945-42f7-b271-ba9e56ceead0",
   "metadata": {},
   "source": [
    "cd MNIST\n",
    "\n",
    "python /home/ma-user/work/MNIST/code/train.py \\\n",
    "  --data_url /home/ma-user/work/MNIST/dataset \\\n",
    "  --train_url /home/ma-user/work/MNIST/checkpoints \\\n",
    "  --batch_size 64 \\\n",
    "  --epochs 10"
   ]
  },
  {
   "cell_type": "markdown",
   "id": "d6cb727d-d73e-48c3-9784-1cc54205f1f0",
   "metadata": {},
   "source": [
    "## To test the inference code:"
   ]
  },
  {
   "cell_type": "markdown",
   "id": "be2211c3-a8c2-4da7-b003-64c7ad897923",
   "metadata": {},
   "source": [
    "### run command below in terminal to launch the flask api apps:"
   ]
  },
  {
   "cell_type": "raw",
   "id": "08303fc7-97b7-44d5-9584-df7645c1da81",
   "metadata": {},
   "source": [
    "python /home/ma-user/work/MNIST/code/infer.py \\\n",
    "    --model_name lenet5_final_epoch10.ckpt \n",
    "    ## if you have specific model name, else it will be lenet5_model.ckpt, no need to specify --model_name"
   ]
  },
  {
   "cell_type": "markdown",
   "id": "0ec6ffb6-e1f9-4260-81fa-826ba7fdbd97",
   "metadata": {},
   "source": [
    "### To POST the image to the apps for prediction result"
   ]
  },
  {
   "cell_type": "markdown",
   "id": "0e4dc3c2-0ff6-48cd-91db-013c1bf0f70f",
   "metadata": {},
   "source": [
    "#### 1. run codes below in notebook"
   ]
  },
  {
   "cell_type": "code",
   "execution_count": 2,
   "id": "64cef805-2abc-407a-8824-09fd8f50fd8b",
   "metadata": {},
   "outputs": [
    {
     "name": "stdout",
     "output_type": "stream",
     "text": [
      "{'prediction': 0}\n"
     ]
    }
   ],
   "source": [
    "import requests\n",
    "\n",
    "# Path to your image\n",
    "image_path = \"/home/ma-user/work/MNIST/testing_data/0.png\"\n",
    "\n",
    "# Send POST request to Flask server\n",
    "url = \"http://localhost:8080/\"\n",
    "with open(image_path, \"rb\") as file:\n",
    "    response = requests.post(url, files={\"file\": file})\n",
    "\n",
    "# Print the response\n",
    "print(response.json())"
   ]
  },
  {
   "cell_type": "markdown",
   "id": "a54a8056-4a9b-45f8-b688-fb23832f7cf6",
   "metadata": {},
   "source": [
    "### 2. run this command in another new terminal"
   ]
  },
  {
   "cell_type": "raw",
   "id": "c6cd6801-0a95-4c8c-9b06-cc6cd8f4d4bf",
   "metadata": {},
   "source": [
    "curl -X POST -F \"file=@/home/ma-user/work/MNIST/testing_data/0.png\" http://localhost:8080"
   ]
  },
  {
   "cell_type": "markdown",
   "id": "df4bca90-a561-4436-8f4a-77d2026bd395",
   "metadata": {},
   "source": [
    "## Upload files to OBS"
   ]
  },
  {
   "cell_type": "code",
   "execution_count": 3,
   "id": "50b5e769-233d-4c74-87c4-9b29dc7b7a3f",
   "metadata": {},
   "outputs": [
    {
     "name": "stderr",
     "output_type": "stream",
     "text": [
      "INFO:root:List OBS time cost: 0.50 seconds.\n",
      "INFO:root:Copy parallel total time cost: 0.88 seconds.\n"
     ]
    }
   ],
   "source": [
    "import moxing as mox\n",
    "\n",
    "bucket_path = \"obs://obs-cne2-zh/modelarts-poc-zh\"\n",
    "obs_dir = f\"{bucket_path}/MNIST\"\n",
    "local_dir = \"/home/ma-user/work/MNIST\"\n",
    "\n",
    "mox.file.copy_parallel(local_dir, obs_dir)"
   ]
  },
  {
   "cell_type": "markdown",
   "id": "c33976ae-e0eb-4c6c-b555-330bf99f57ce",
   "metadata": {},
   "source": [
    "## Copy inference file to model path"
   ]
  },
  {
   "cell_type": "markdown",
   "id": "1480ade6-62e1-4344-a27a-912cd69bc993",
   "metadata": {},
   "source": [
    "### run this command in terminal:"
   ]
  },
  {
   "cell_type": "raw",
   "id": "176e80b6-5584-45d0-8d38-76cdb9f4da56",
   "metadata": {},
   "source": [
    "cp /home/ma-user/work/MNIST/code/infer.py /home/ma-user/infer/model "
   ]
  },
  {
   "cell_type": "code",
   "execution_count": null,
   "id": "48bd4017-441e-436e-af8a-0e9797530203",
   "metadata": {},
   "outputs": [],
   "source": []
  }
 ],
 "metadata": {
  "kernelspec": {
   "display_name": "MindSpore",
   "language": "python",
   "name": "mindspore"
  },
  "language_info": {
   "codemirror_mode": {
    "name": "ipython",
    "version": 3
   },
   "file_extension": ".py",
   "mimetype": "text/x-python",
   "name": "python",
   "nbconvert_exporter": "python",
   "pygments_lexer": "ipython3",
   "version": "3.9.10"
  }
 },
 "nbformat": 4,
 "nbformat_minor": 5
}
